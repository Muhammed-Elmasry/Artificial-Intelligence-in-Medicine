{
  "nbformat": 4,
  "nbformat_minor": 0,
  "metadata": {
    "colab": {
      "provenance": []
    },
    "kernelspec": {
      "name": "python3",
      "display_name": "Python 3"
    },
    "language_info": {
      "name": "python"
    },
    "accelerator": "GPU",
    "gpuClass": "standard"
  },
  "cells": [
    {
      "cell_type": "markdown",
      "source": [
        "# This is a part of the **practical exercise** on uncertainty for dermatoscopy classification. Your task is to go through this tutorial and fill in missing code and answer the questions."
      ],
      "metadata": {
        "id": "7LTHX4hS3nzQ"
      }
    },
    {
      "cell_type": "markdown",
      "source": [
        "---\n",
        "\n",
        "First, as usual, we load needed libraries.\n",
        "\n",
        "---\n"
      ],
      "metadata": {
        "id": "z3Oa61UyBU6P"
      }
    },
    {
      "cell_type": "markdown",
      "source": [
        "Authors:\n",
        "\n",
        "Mohammed Elbushnaq, 03786474\n",
        "\n",
        "Muhammed Elmasry, 03786399\n",
        "\n",
        "Evangelos Fragkiadakis, 03786480\n",
        "\n",
        "Nada Elsherbeny, 03788337\n"
      ],
      "metadata": {
        "id": "1FQhuvsl1u9e"
      }
    },
    {
      "cell_type": "code",
      "execution_count": 1,
      "metadata": {
        "id": "qubxee7lkY5X"
      },
      "outputs": [],
      "source": [
        "import torch\n",
        "from torch import nn, optim\n",
        "from torch.utils.data import DataLoader\n",
        "from torchvision import transforms\n",
        "from torchvision.models import resnet18\n",
        "from tqdm import tqdm\n",
        "from torchvision.transforms import ToTensor, Lambda\n",
        "\n",
        "import numpy as np"
      ]
    },
    {
      "cell_type": "code",
      "source": [
        "!pip install medmnist"
      ],
      "metadata": {
        "id": "rBdqvv1NkzoF",
        "outputId": "5fda39f6-db69-46f9-f903-b3e377a737dd",
        "colab": {
          "base_uri": "https://localhost:8080/"
        }
      },
      "execution_count": 2,
      "outputs": [
        {
          "output_type": "stream",
          "name": "stdout",
          "text": [
            "Collecting medmnist\n",
            "  Downloading medmnist-2.2.3-py3-none-any.whl (22 kB)\n",
            "Requirement already satisfied: numpy in /usr/local/lib/python3.10/dist-packages (from medmnist) (1.23.5)\n",
            "Requirement already satisfied: pandas in /usr/local/lib/python3.10/dist-packages (from medmnist) (1.5.3)\n",
            "Requirement already satisfied: scikit-learn in /usr/local/lib/python3.10/dist-packages (from medmnist) (1.2.2)\n",
            "Requirement already satisfied: scikit-image in /usr/local/lib/python3.10/dist-packages (from medmnist) (0.19.3)\n",
            "Requirement already satisfied: tqdm in /usr/local/lib/python3.10/dist-packages (from medmnist) (4.66.1)\n",
            "Requirement already satisfied: Pillow in /usr/local/lib/python3.10/dist-packages (from medmnist) (9.4.0)\n",
            "Collecting fire (from medmnist)\n",
            "  Downloading fire-0.5.0.tar.gz (88 kB)\n",
            "\u001b[2K     \u001b[90m━━━━━━━━━━━━━━━━━━━━━━━━━━━━━━━━━━━━━━━━\u001b[0m \u001b[32m88.3/88.3 kB\u001b[0m \u001b[31m2.1 MB/s\u001b[0m eta \u001b[36m0:00:00\u001b[0m\n",
            "\u001b[?25h  Preparing metadata (setup.py) ... \u001b[?25l\u001b[?25hdone\n",
            "Requirement already satisfied: torch in /usr/local/lib/python3.10/dist-packages (from medmnist) (2.1.0+cu121)\n",
            "Requirement already satisfied: torchvision in /usr/local/lib/python3.10/dist-packages (from medmnist) (0.16.0+cu121)\n",
            "Requirement already satisfied: six in /usr/local/lib/python3.10/dist-packages (from fire->medmnist) (1.16.0)\n",
            "Requirement already satisfied: termcolor in /usr/local/lib/python3.10/dist-packages (from fire->medmnist) (2.4.0)\n",
            "Requirement already satisfied: python-dateutil>=2.8.1 in /usr/local/lib/python3.10/dist-packages (from pandas->medmnist) (2.8.2)\n",
            "Requirement already satisfied: pytz>=2020.1 in /usr/local/lib/python3.10/dist-packages (from pandas->medmnist) (2023.3.post1)\n",
            "Requirement already satisfied: scipy>=1.4.1 in /usr/local/lib/python3.10/dist-packages (from scikit-image->medmnist) (1.11.4)\n",
            "Requirement already satisfied: networkx>=2.2 in /usr/local/lib/python3.10/dist-packages (from scikit-image->medmnist) (3.2.1)\n",
            "Requirement already satisfied: imageio>=2.4.1 in /usr/local/lib/python3.10/dist-packages (from scikit-image->medmnist) (2.31.6)\n",
            "Requirement already satisfied: tifffile>=2019.7.26 in /usr/local/lib/python3.10/dist-packages (from scikit-image->medmnist) (2023.12.9)\n",
            "Requirement already satisfied: PyWavelets>=1.1.1 in /usr/local/lib/python3.10/dist-packages (from scikit-image->medmnist) (1.5.0)\n",
            "Requirement already satisfied: packaging>=20.0 in /usr/local/lib/python3.10/dist-packages (from scikit-image->medmnist) (23.2)\n",
            "Requirement already satisfied: joblib>=1.1.1 in /usr/local/lib/python3.10/dist-packages (from scikit-learn->medmnist) (1.3.2)\n",
            "Requirement already satisfied: threadpoolctl>=2.0.0 in /usr/local/lib/python3.10/dist-packages (from scikit-learn->medmnist) (3.2.0)\n",
            "Requirement already satisfied: filelock in /usr/local/lib/python3.10/dist-packages (from torch->medmnist) (3.13.1)\n",
            "Requirement already satisfied: typing-extensions in /usr/local/lib/python3.10/dist-packages (from torch->medmnist) (4.5.0)\n",
            "Requirement already satisfied: sympy in /usr/local/lib/python3.10/dist-packages (from torch->medmnist) (1.12)\n",
            "Requirement already satisfied: jinja2 in /usr/local/lib/python3.10/dist-packages (from torch->medmnist) (3.1.2)\n",
            "Requirement already satisfied: fsspec in /usr/local/lib/python3.10/dist-packages (from torch->medmnist) (2023.6.0)\n",
            "Requirement already satisfied: triton==2.1.0 in /usr/local/lib/python3.10/dist-packages (from torch->medmnist) (2.1.0)\n",
            "Requirement already satisfied: requests in /usr/local/lib/python3.10/dist-packages (from torchvision->medmnist) (2.31.0)\n",
            "Requirement already satisfied: MarkupSafe>=2.0 in /usr/local/lib/python3.10/dist-packages (from jinja2->torch->medmnist) (2.1.3)\n",
            "Requirement already satisfied: charset-normalizer<4,>=2 in /usr/local/lib/python3.10/dist-packages (from requests->torchvision->medmnist) (3.3.2)\n",
            "Requirement already satisfied: idna<4,>=2.5 in /usr/local/lib/python3.10/dist-packages (from requests->torchvision->medmnist) (3.6)\n",
            "Requirement already satisfied: urllib3<3,>=1.21.1 in /usr/local/lib/python3.10/dist-packages (from requests->torchvision->medmnist) (2.0.7)\n",
            "Requirement already satisfied: certifi>=2017.4.17 in /usr/local/lib/python3.10/dist-packages (from requests->torchvision->medmnist) (2023.11.17)\n",
            "Requirement already satisfied: mpmath>=0.19 in /usr/local/lib/python3.10/dist-packages (from sympy->torch->medmnist) (1.3.0)\n",
            "Building wheels for collected packages: fire\n",
            "  Building wheel for fire (setup.py) ... \u001b[?25l\u001b[?25hdone\n",
            "  Created wheel for fire: filename=fire-0.5.0-py2.py3-none-any.whl size=116934 sha256=a19826885f734d587c232852bca5d9edc58df17e89e182ef14d362c1f7ab2b08\n",
            "  Stored in directory: /root/.cache/pip/wheels/90/d4/f7/9404e5db0116bd4d43e5666eaa3e70ab53723e1e3ea40c9a95\n",
            "Successfully built fire\n",
            "Installing collected packages: fire, medmnist\n",
            "Successfully installed fire-0.5.0 medmnist-2.2.3\n"
          ]
        }
      ]
    },
    {
      "cell_type": "markdown",
      "source": [
        "---\n",
        "\n",
        "Now, let's load the dermatoscopy dataset from MedMNIST.\n",
        "\n",
        "---\n",
        "\n"
      ],
      "metadata": {
        "id": "OGJMX6w_5qFW"
      }
    },
    {
      "cell_type": "code",
      "source": [
        "import medmnist\n",
        "from medmnist import INFO, Evaluator\n",
        "\n",
        "# preprocessing\n",
        "data_transform = transforms.Compose([\n",
        "    transforms.ToTensor(),\n",
        "    transforms.Normalize(mean=[.5], std=[.5])\n",
        "])\n",
        "\n",
        "# load the data\n",
        "data_flag = 'dermamnist'\n",
        "info = INFO[data_flag]\n",
        "n_classes = len(info['label'])\n",
        "DataClass = getattr(medmnist, info['python_class'])\n",
        "\n",
        "train_set = DataClass(split='train', transform=data_transform, download=True)\n",
        "test_set = DataClass(split='test', transform=data_transform, download=True)\n",
        "train_set"
      ],
      "metadata": {
        "id": "zar0upWnk98K",
        "outputId": "c6aea4df-4f97-4599-b304-11c7239ec810",
        "colab": {
          "base_uri": "https://localhost:8080/"
        }
      },
      "execution_count": 3,
      "outputs": [
        {
          "output_type": "stream",
          "name": "stdout",
          "text": [
            "Downloading https://zenodo.org/records/6496656/files/dermamnist.npz to /root/.medmnist/dermamnist.npz\n"
          ]
        },
        {
          "output_type": "stream",
          "name": "stderr",
          "text": [
            "100%|██████████| 19725078/19725078 [00:02<00:00, 9002749.65it/s] \n"
          ]
        },
        {
          "output_type": "stream",
          "name": "stdout",
          "text": [
            "Using downloaded and verified file: /root/.medmnist/dermamnist.npz\n"
          ]
        },
        {
          "output_type": "execute_result",
          "data": {
            "text/plain": [
              "Dataset DermaMNIST (dermamnist)\n",
              "    Number of datapoints: 7007\n",
              "    Root location: /root/.medmnist\n",
              "    Split: train\n",
              "    Task: multi-class\n",
              "    Number of channels: 3\n",
              "    Meaning of labels: {'0': 'actinic keratoses and intraepithelial carcinoma', '1': 'basal cell carcinoma', '2': 'benign keratosis-like lesions', '3': 'dermatofibroma', '4': 'melanoma', '5': 'melanocytic nevi', '6': 'vascular lesions'}\n",
              "    Number of samples: {'train': 7007, 'val': 1003, 'test': 2005}\n",
              "    Description: The DermaMNIST is based on the HAM10000, a large collection of multi-source dermatoscopic images of common pigmented skin lesions. The dataset consists of 10,015 dermatoscopic images categorized as 7 different diseases, formulized as a multi-class classification task. We split the images into training, validation and test set with a ratio of 7:1:2. The source images of 3×600×450 are resized into 3×28×28.\n",
              "    License: CC BY-NC 4.0"
            ]
          },
          "metadata": {},
          "execution_count": 3
        }
      ]
    },
    {
      "cell_type": "markdown",
      "source": [
        "\n",
        "---\n",
        "\n",
        "**Q1:** Next, we define objects of *DataLoader* class for training and testing splits. And we also define our model. Here it gets more challenging.\n",
        "\n",
        "In the cell below you need to:\n",
        "\n",
        "- load a resnet18 pretrained on ImageNet network from PyTorch\n",
        "- add a Dropout layer to the last fully-connected layer with 25% probability of neurons to be zeroed\n",
        "- change the last layer of the resnet18 such that it outputs 7 classes (the number of classes in the dermatoscopy dataset) instead of 1000 classes (as it is in the pretrained network)\n",
        "- freeze all the layers except the last one, as we are gonna fine tune in the next step our pretrained network on the medical dataset\n",
        "\n",
        "---"
      ],
      "metadata": {
        "id": "OFHXLcot56-a"
      }
    },
    {
      "cell_type": "code",
      "source": [
        "train_batch_size = 40\n",
        "test_batch_size = 3\n",
        "\n",
        "train_loader = DataLoader(\n",
        "    train_set,\n",
        "    batch_size=train_batch_size,\n",
        "    num_workers=1,\n",
        "    pin_memory=True,\n",
        ")\n",
        "\n",
        "test_loader = DataLoader(\n",
        "    test_set,\n",
        "    batch_size=test_batch_size,\n",
        "    num_workers=1,\n",
        "    pin_memory=True,\n",
        ")\n",
        "\n",
        "# # PUT YOUR CODE HERE\n",
        "model = resnet18(pretrained=True)\n",
        "\n",
        "# Addding a Dropout layer to the last fully-connected layer, and changing its classes to 7\n",
        "model.fc = nn.Sequential(\n",
        "    nn.Dropout(0.25),\n",
        "    nn.Linear(model.fc.in_features, 7)\n",
        ")\n",
        "\n",
        "# Freezing all layers except the last one\n",
        "for param in model.parameters():\n",
        "    param.requires_grad = False\n",
        "\n",
        "# Enable gradient computation for the last layer (FC Layer)\n",
        "for param in model.fc.parameters():\n",
        "    param.requires_grad = True\n",
        "\n",
        "# The Modified model\n",
        "print(model)"
      ],
      "metadata": {
        "id": "_05juRp5lEom",
        "outputId": "4bd609bd-7397-4d87-fe24-ef09f03a15d9",
        "colab": {
          "base_uri": "https://localhost:8080/"
        }
      },
      "execution_count": 4,
      "outputs": [
        {
          "output_type": "stream",
          "name": "stderr",
          "text": [
            "/usr/local/lib/python3.10/dist-packages/torchvision/models/_utils.py:208: UserWarning: The parameter 'pretrained' is deprecated since 0.13 and may be removed in the future, please use 'weights' instead.\n",
            "  warnings.warn(\n",
            "/usr/local/lib/python3.10/dist-packages/torchvision/models/_utils.py:223: UserWarning: Arguments other than a weight enum or `None` for 'weights' are deprecated since 0.13 and may be removed in the future. The current behavior is equivalent to passing `weights=ResNet18_Weights.IMAGENET1K_V1`. You can also use `weights=ResNet18_Weights.DEFAULT` to get the most up-to-date weights.\n",
            "  warnings.warn(msg)\n",
            "Downloading: \"https://download.pytorch.org/models/resnet18-f37072fd.pth\" to /root/.cache/torch/hub/checkpoints/resnet18-f37072fd.pth\n",
            "100%|██████████| 44.7M/44.7M [00:00<00:00, 154MB/s]"
          ]
        },
        {
          "output_type": "stream",
          "name": "stdout",
          "text": [
            "ResNet(\n",
            "  (conv1): Conv2d(3, 64, kernel_size=(7, 7), stride=(2, 2), padding=(3, 3), bias=False)\n",
            "  (bn1): BatchNorm2d(64, eps=1e-05, momentum=0.1, affine=True, track_running_stats=True)\n",
            "  (relu): ReLU(inplace=True)\n",
            "  (maxpool): MaxPool2d(kernel_size=3, stride=2, padding=1, dilation=1, ceil_mode=False)\n",
            "  (layer1): Sequential(\n",
            "    (0): BasicBlock(\n",
            "      (conv1): Conv2d(64, 64, kernel_size=(3, 3), stride=(1, 1), padding=(1, 1), bias=False)\n",
            "      (bn1): BatchNorm2d(64, eps=1e-05, momentum=0.1, affine=True, track_running_stats=True)\n",
            "      (relu): ReLU(inplace=True)\n",
            "      (conv2): Conv2d(64, 64, kernel_size=(3, 3), stride=(1, 1), padding=(1, 1), bias=False)\n",
            "      (bn2): BatchNorm2d(64, eps=1e-05, momentum=0.1, affine=True, track_running_stats=True)\n",
            "    )\n",
            "    (1): BasicBlock(\n",
            "      (conv1): Conv2d(64, 64, kernel_size=(3, 3), stride=(1, 1), padding=(1, 1), bias=False)\n",
            "      (bn1): BatchNorm2d(64, eps=1e-05, momentum=0.1, affine=True, track_running_stats=True)\n",
            "      (relu): ReLU(inplace=True)\n",
            "      (conv2): Conv2d(64, 64, kernel_size=(3, 3), stride=(1, 1), padding=(1, 1), bias=False)\n",
            "      (bn2): BatchNorm2d(64, eps=1e-05, momentum=0.1, affine=True, track_running_stats=True)\n",
            "    )\n",
            "  )\n",
            "  (layer2): Sequential(\n",
            "    (0): BasicBlock(\n",
            "      (conv1): Conv2d(64, 128, kernel_size=(3, 3), stride=(2, 2), padding=(1, 1), bias=False)\n",
            "      (bn1): BatchNorm2d(128, eps=1e-05, momentum=0.1, affine=True, track_running_stats=True)\n",
            "      (relu): ReLU(inplace=True)\n",
            "      (conv2): Conv2d(128, 128, kernel_size=(3, 3), stride=(1, 1), padding=(1, 1), bias=False)\n",
            "      (bn2): BatchNorm2d(128, eps=1e-05, momentum=0.1, affine=True, track_running_stats=True)\n",
            "      (downsample): Sequential(\n",
            "        (0): Conv2d(64, 128, kernel_size=(1, 1), stride=(2, 2), bias=False)\n",
            "        (1): BatchNorm2d(128, eps=1e-05, momentum=0.1, affine=True, track_running_stats=True)\n",
            "      )\n",
            "    )\n",
            "    (1): BasicBlock(\n",
            "      (conv1): Conv2d(128, 128, kernel_size=(3, 3), stride=(1, 1), padding=(1, 1), bias=False)\n",
            "      (bn1): BatchNorm2d(128, eps=1e-05, momentum=0.1, affine=True, track_running_stats=True)\n",
            "      (relu): ReLU(inplace=True)\n",
            "      (conv2): Conv2d(128, 128, kernel_size=(3, 3), stride=(1, 1), padding=(1, 1), bias=False)\n",
            "      (bn2): BatchNorm2d(128, eps=1e-05, momentum=0.1, affine=True, track_running_stats=True)\n",
            "    )\n",
            "  )\n",
            "  (layer3): Sequential(\n",
            "    (0): BasicBlock(\n",
            "      (conv1): Conv2d(128, 256, kernel_size=(3, 3), stride=(2, 2), padding=(1, 1), bias=False)\n",
            "      (bn1): BatchNorm2d(256, eps=1e-05, momentum=0.1, affine=True, track_running_stats=True)\n",
            "      (relu): ReLU(inplace=True)\n",
            "      (conv2): Conv2d(256, 256, kernel_size=(3, 3), stride=(1, 1), padding=(1, 1), bias=False)\n",
            "      (bn2): BatchNorm2d(256, eps=1e-05, momentum=0.1, affine=True, track_running_stats=True)\n",
            "      (downsample): Sequential(\n",
            "        (0): Conv2d(128, 256, kernel_size=(1, 1), stride=(2, 2), bias=False)\n",
            "        (1): BatchNorm2d(256, eps=1e-05, momentum=0.1, affine=True, track_running_stats=True)\n",
            "      )\n",
            "    )\n",
            "    (1): BasicBlock(\n",
            "      (conv1): Conv2d(256, 256, kernel_size=(3, 3), stride=(1, 1), padding=(1, 1), bias=False)\n",
            "      (bn1): BatchNorm2d(256, eps=1e-05, momentum=0.1, affine=True, track_running_stats=True)\n",
            "      (relu): ReLU(inplace=True)\n",
            "      (conv2): Conv2d(256, 256, kernel_size=(3, 3), stride=(1, 1), padding=(1, 1), bias=False)\n",
            "      (bn2): BatchNorm2d(256, eps=1e-05, momentum=0.1, affine=True, track_running_stats=True)\n",
            "    )\n",
            "  )\n",
            "  (layer4): Sequential(\n",
            "    (0): BasicBlock(\n",
            "      (conv1): Conv2d(256, 512, kernel_size=(3, 3), stride=(2, 2), padding=(1, 1), bias=False)\n",
            "      (bn1): BatchNorm2d(512, eps=1e-05, momentum=0.1, affine=True, track_running_stats=True)\n",
            "      (relu): ReLU(inplace=True)\n",
            "      (conv2): Conv2d(512, 512, kernel_size=(3, 3), stride=(1, 1), padding=(1, 1), bias=False)\n",
            "      (bn2): BatchNorm2d(512, eps=1e-05, momentum=0.1, affine=True, track_running_stats=True)\n",
            "      (downsample): Sequential(\n",
            "        (0): Conv2d(256, 512, kernel_size=(1, 1), stride=(2, 2), bias=False)\n",
            "        (1): BatchNorm2d(512, eps=1e-05, momentum=0.1, affine=True, track_running_stats=True)\n",
            "      )\n",
            "    )\n",
            "    (1): BasicBlock(\n",
            "      (conv1): Conv2d(512, 512, kernel_size=(3, 3), stride=(1, 1), padding=(1, 1), bias=False)\n",
            "      (bn1): BatchNorm2d(512, eps=1e-05, momentum=0.1, affine=True, track_running_stats=True)\n",
            "      (relu): ReLU(inplace=True)\n",
            "      (conv2): Conv2d(512, 512, kernel_size=(3, 3), stride=(1, 1), padding=(1, 1), bias=False)\n",
            "      (bn2): BatchNorm2d(512, eps=1e-05, momentum=0.1, affine=True, track_running_stats=True)\n",
            "    )\n",
            "  )\n",
            "  (avgpool): AdaptiveAvgPool2d(output_size=(1, 1))\n",
            "  (fc): Sequential(\n",
            "    (0): Dropout(p=0.25, inplace=False)\n",
            "    (1): Linear(in_features=512, out_features=7, bias=True)\n",
            "  )\n",
            ")\n"
          ]
        },
        {
          "output_type": "stream",
          "name": "stderr",
          "text": [
            "\n"
          ]
        }
      ]
    },
    {
      "cell_type": "markdown",
      "source": [
        "\n",
        "---\n",
        "\n",
        "\n",
        "\n",
        "Hope you made it work! Now we are gonna fine-tune the model (the last layer of it to be more precise).  \n",
        "\n",
        "---"
      ],
      "metadata": {
        "id": "7RprcS-JGd2E"
      }
    },
    {
      "cell_type": "code",
      "source": [
        "criterion = nn.CrossEntropyLoss()\n",
        "optimizer = optim.Adam(model.parameters(), lr=0.001)\n",
        "loss = []\n",
        "model.train()\n",
        "\n",
        "for epoch in range(5):  # loop over the dataset 5 times to fine-tune the last layer\n",
        "\n",
        "    running_loss = 0.0\n",
        "    for i, data in enumerate(tqdm(train_loader), 0):\n",
        "        # get the inputs; data is a list of [inputs, labels]\n",
        "        inputs, labels = data\n",
        "\n",
        "        # Flatten labels to 1D to solve the runtime error (RuntimeError: 0D or 1D target tensor expected, multi-target not supported)\n",
        "        labels = labels.squeeze()\n",
        "\n",
        "        # zero the parameter gradients\n",
        "        optimizer.zero_grad()\n",
        "\n",
        "        # forward + backward + optimize\n",
        "        outputs = model(inputs)\n",
        "        # print(np.shape(outputs))\n",
        "        # print(np.shape(labels))\n",
        "        # print(labels.squeeze())\n",
        "        loss = criterion(outputs, labels)\n",
        "        loss.backward()\n",
        "        optimizer.step()\n",
        "\n",
        "print('\\n Finished training')"
      ],
      "metadata": {
        "id": "MJBLLVhMmlgV",
        "outputId": "403e05f9-e130-4dea-c0a0-38409d2db7a6",
        "colab": {
          "base_uri": "https://localhost:8080/"
        }
      },
      "execution_count": 5,
      "outputs": [
        {
          "output_type": "stream",
          "name": "stderr",
          "text": [
            "100%|██████████| 176/176 [00:11<00:00, 14.80it/s]\n",
            "100%|██████████| 176/176 [00:14<00:00, 12.32it/s]\n",
            "100%|██████████| 176/176 [00:13<00:00, 12.59it/s]\n",
            "100%|██████████| 176/176 [00:12<00:00, 14.40it/s]\n",
            "100%|██████████| 176/176 [00:13<00:00, 13.09it/s]"
          ]
        },
        {
          "output_type": "stream",
          "name": "stdout",
          "text": [
            "\n",
            " Finished training\n"
          ]
        },
        {
          "output_type": "stream",
          "name": "stderr",
          "text": [
            "\n"
          ]
        }
      ]
    },
    {
      "cell_type": "markdown",
      "source": [
        "**Q2:** What the heck? We got an error (`RuntimeError: 0D or 1D target tensor expected, multi-target not supported`).\n",
        "\n",
        "Any idea how we can fix it?\n",
        "**Yes, by just removing the extra dimention (squeeze) in the labels (I already did that in the above cell)**"
      ],
      "metadata": {
        "id": "38SCADFblYrH"
      }
    },
    {
      "cell_type": "markdown",
      "source": [
        "---\n",
        "\n",
        "Let's test the classification accuracy of our model.\n",
        "\n",
        "**Q3:** Please fill in the missing code below. You need to loop over the test set and compute how many times the trained network predicts the class\n",
        "correctly.\n",
        "\n",
        "---"
      ],
      "metadata": {
        "id": "lj67xxx8tVn3"
      }
    },
    {
      "cell_type": "code",
      "source": [
        "#  set model state to eval() for running the inference\n",
        "model.eval()\n",
        "\n",
        "correct = 0\n",
        "total = 0\n",
        "correcti = 0\n",
        "totali = 0\n",
        "\n",
        "with torch.no_grad():\n",
        "  for images, labels in tqdm(test_loader):\n",
        "\n",
        "# # PUT YOUR CODE HERE\n",
        "        # Forward pass\n",
        "        outputs = model(images)\n",
        "\n",
        "        # Get predictions\n",
        "        _, predicted = torch.max(outputs, 1)\n",
        "\n",
        "        # Update total number of examples\n",
        "        totali = labels.size(0)\n",
        "        total += totali\n",
        "\n",
        "        # Update number of correctly classified examples\n",
        "        correcti = (predicted == labels.view(-1)).sum().item()\n",
        "        correct += correcti\n",
        "\n",
        "# Calculate accuracy\n",
        "accuracy = correct / total\n",
        "print(f'Test Accuracy: {accuracy * 100:.2f}%')\n"
      ],
      "metadata": {
        "colab": {
          "base_uri": "https://localhost:8080/"
        },
        "id": "tYJncy-AtT-A",
        "outputId": "f70d198c-3bd3-42d7-f0f5-d82d1b1852eb"
      },
      "execution_count": 6,
      "outputs": [
        {
          "output_type": "stream",
          "name": "stderr",
          "text": [
            "100%|██████████| 669/669 [00:13<00:00, 51.01it/s]"
          ]
        },
        {
          "output_type": "stream",
          "name": "stdout",
          "text": [
            "Test Accuracy: 69.53%\n"
          ]
        },
        {
          "output_type": "stream",
          "name": "stderr",
          "text": [
            "\n"
          ]
        }
      ]
    },
    {
      "cell_type": "markdown",
      "source": [
        "---\n",
        "\n",
        "The accuracy is ok, but not mindblowing. Thus it would be useful, as discussed in the lecture, to know how confident our model is. Let's use Monte Carlo dropout to find out. We now run 1000 forward passes and look at the distribution of the predictions.\n",
        "\n",
        "---"
      ],
      "metadata": {
        "id": "efSogAwOvzSQ"
      }
    },
    {
      "cell_type": "code",
      "source": [
        "samples = 1000\n",
        "preds = []\n",
        "image = next(iter(test_loader))\n",
        "\n",
        "# compute predictions from our model with dropout\n",
        "for idx in range(samples):\n",
        "    preds.append(model(image[0]).clone().detach().numpy())\n",
        "    # print(image[0])\n",
        "preds = np.array(preds)"
      ],
      "metadata": {
        "id": "MBKchRQ62KhQ"
      },
      "execution_count": 7,
      "outputs": []
    },
    {
      "cell_type": "code",
      "source": [
        "# Assuming test_loader is your DataLoader\n",
        "# xx = len(test_loader)\n",
        "# bs = test_loader.batch_size\n",
        "# print(xx * bs)\n",
        "# print(xx, bs)\n",
        "\n",
        "# print(preds[0, 0])\n",
        "# print(np.argmax(preds[0],1))"
      ],
      "metadata": {
        "id": "rPc8nQnnPxpS"
      },
      "execution_count": null,
      "outputs": []
    },
    {
      "cell_type": "code",
      "source": [
        "pred_class = []\n",
        "for idx in range(preds.shape[0]):\n",
        "    pred_class.append(np.argmax(preds[idx],1))"
      ],
      "metadata": {
        "id": "Bn-jeICxhgPS"
      },
      "execution_count": 8,
      "outputs": []
    },
    {
      "cell_type": "markdown",
      "source": [
        "---\n",
        "\n",
        "Now, we look at the results.\n",
        "\n",
        "---\n",
        "\n"
      ],
      "metadata": {
        "id": "IPZdDm8b0lZV"
      }
    },
    {
      "cell_type": "code",
      "source": [
        "import matplotlib.pyplot as plt\n",
        "\n",
        "n, bins, patches = plt.hist([x[0] for x in pred_class], facecolor='b', width = 0.4)\n",
        "plt.xlabel('Class')\n",
        "plt.ylabel('Counts')\n",
        "plt.xlim([0,8])\n",
        "plt.show()"
      ],
      "metadata": {
        "id": "_ABnDjFdinrg",
        "outputId": "fa651b09-993e-4172-9c3d-8b936287e569",
        "colab": {
          "base_uri": "https://localhost:8080/",
          "height": 449
        }
      },
      "execution_count": 9,
      "outputs": [
        {
          "output_type": "display_data",
          "data": {
            "text/plain": [
              "<Figure size 640x480 with 1 Axes>"
            ],
            "image/png": "[encoded data removed]"
          },
          "metadata": {}
        }
      ]
    },
    {
      "cell_type": "code",
      "source": [
        "n, bins, patches = plt.hist([x[1] for x in pred_class], facecolor='b', width = 0.4)\n",
        "plt.xlabel('Class')\n",
        "plt.ylabel('Counts')\n",
        "plt.xlim([0,8])\n",
        "plt.show()"
      ],
      "metadata": {
        "id": "PEcUdG1vipxT",
        "outputId": "cc848c43-0d4b-4272-d612-6df2895113c2",
        "colab": {
          "base_uri": "https://localhost:8080/",
          "height": 449
        }
      },
      "execution_count": 10,
      "outputs": [
        {
          "output_type": "display_data",
          "data": {
            "text/plain": [
              "<Figure size 640x480 with 1 Axes>"
            ],
            "image/png": "[encoded data removed]"
          },
          "metadata": {}
        }
      ]
    },
    {
      "cell_type": "code",
      "source": [],
      "metadata": {
        "id": "5Y0wFbXGQM_m"
      },
      "execution_count": 10,
      "outputs": []
    },
    {
      "cell_type": "code",
      "source": [
        "n, bins, patches = plt.hist([x[2] for x in pred_class], facecolor='b', width = 0.4)\n",
        "plt.xlabel('Class')\n",
        "plt.ylabel('Counts')\n",
        "plt.xlim([0,8])\n",
        "plt.show()"
      ],
      "metadata": {
        "id": "8S2FTwXYmycX",
        "outputId": "6addf193-4b64-4e14-b364-b35ae831677b",
        "colab": {
          "base_uri": "https://localhost:8080/",
          "height": 449
        }
      },
      "execution_count": 11,
      "outputs": [
        {
          "output_type": "display_data",
          "data": {
            "text/plain": [
              "<Figure size 640x480 with 1 Axes>"
            ],
            "image/png": "[encoded data removed]"
          },
          "metadata": {}
        }
      ]
    },
    {
      "cell_type": "markdown",
      "source": [
        "---\n",
        "\n",
        "Hmm... each time, we predicted the same class 1000 times, but we expected the dropout to provide some distribution of predictions. Suspicuous...\n",
        "\n",
        "**Q4:** Is there a catch? Please write your thoughts on why we do not see a distribution and whether we could fix it somehow.\n",
        "\n",
        "**As the model deactivate the dropout during inference, to make deterministic predictions, so the model actually uses all of its neuron in the inference**\n",
        "\n",
        "**What we need to do in Mote Carlo dropout, is to actually activate this dropout during the inference, so model.train() can be very suffecient to activate it, even if we are testing now not training.**\n",
        "\n",
        " **As we can see in the following 3 cells, the last two shows distributions of the predictions, but the first one doesn't (image[0]), that means that for all the combinations of the neurons with the 25% dropout, it predicts class 5 everytime**\n",
        "\n",
        "---"
      ],
      "metadata": {
        "id": "VxgAawCH0pnh"
      }
    },
    {
      "cell_type": "code",
      "source": [
        "samples = 1000\n",
        "preds = []\n",
        "image = next(iter(test_loader))\n",
        "\n",
        "model.train()\n",
        "# compute predictions from our model with dropout\n",
        "for idx in range(samples):\n",
        "    preds.append(model(image[0]).clone().detach().numpy())\n",
        "    # print(image[0])\n",
        "preds = np.array(preds)\n",
        "\n",
        "pred_class = []\n",
        "for idx in range(preds.shape[0]):\n",
        "    pred_class.append(np.argmax(preds[idx],1))\n",
        "\n",
        "n, bins, patches = plt.hist([x[0] for x in pred_class], facecolor='b', width = 0.4)\n",
        "plt.xlabel('Class')\n",
        "plt.ylabel('Counts')\n",
        "plt.xlim([0,8])\n",
        "plt.show()"
      ],
      "metadata": {
        "id": "2wyMVU_bUOdx",
        "colab": {
          "base_uri": "https://localhost:8080/",
          "height": 449
        },
        "outputId": "4aff7045-7872-4744-df57-435813742e34"
      },
      "execution_count": 12,
      "outputs": [
        {
          "output_type": "display_data",
          "data": {
            "text/plain": [
              "<Figure size 640x480 with 1 Axes>"
            ],
            "image/png": "[encoded data removed]"
          },
          "metadata": {}
        }
      ]
    },
    {
      "cell_type": "code",
      "source": [
        "n, bins, patches = plt.hist([x[1] for x in pred_class], facecolor='b', width = 0.4)\n",
        "plt.xlabel('Class')\n",
        "plt.ylabel('Counts')\n",
        "plt.xlim([0,8])\n",
        "plt.show()"
      ],
      "metadata": {
        "colab": {
          "base_uri": "https://localhost:8080/",
          "height": 452
        },
        "id": "WDIbNaRvzs_L",
        "outputId": "a28215b5-e9e3-447e-b51f-68588b01760f"
      },
      "execution_count": 13,
      "outputs": [
        {
          "output_type": "display_data",
          "data": {
            "text/plain": [
              "<Figure size 640x480 with 1 Axes>"
            ],
            "image/png": "[encoded data removed]"
          },
          "metadata": {}
        }
      ]
    },
    {
      "cell_type": "code",
      "source": [
        "n, bins, patches = plt.hist([x[2] for x in pred_class], facecolor='b', width = 0.4)\n",
        "plt.xlabel('Class')\n",
        "plt.ylabel('Counts')\n",
        "plt.xlim([0,8])\n",
        "plt.show()"
      ],
      "metadata": {
        "colab": {
          "base_uri": "https://localhost:8080/",
          "height": 449
        },
        "id": "7OCu-DRzzvRC",
        "outputId": "7b7d127e-417e-480d-c36b-99b245b44639"
      },
      "execution_count": 14,
      "outputs": [
        {
          "output_type": "display_data",
          "data": {
            "text/plain": [
              "<Figure size 640x480 with 1 Axes>"
            ],
            "image/png": "[encoded data removed]"
          },
          "metadata": {}
        }
      ]
    },
    {
      "cell_type": "code",
      "source": [],
      "metadata": {
        "id": "2ySgu7tMzy5h"
      },
      "execution_count": null,
      "outputs": []
    }
  ]
}